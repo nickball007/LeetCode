{
 "cells": [
  {
   "cell_type": "code",
   "execution_count": 4,
   "metadata": {},
   "outputs": [],
   "source": [
    "#Definition for singly-linked list.\n",
    "class ListNode:\n",
    "    def __init__(self, x):\n",
    "        self.val = x\n",
    "        self.next = None\n",
    "\n",
    "class Solution:\n",
    "    def addTwoNumbers(self, l1: ListNode, l2: ListNode) -> ListNode:\n",
    "        start = None\n",
    "        c = 0\n",
    "        while l1 != None and l2 != None:\n",
    "            c = l1.val + l2.val + c\n",
    "            l = ListNode(c%10)\n",
    "            c = c//10\n",
    "            if start == None:\n",
    "                start = l\n",
    "            else:\n",
    "                l3.next = l\n",
    "            l3 = l\n",
    "            l1 = l1.next\n",
    "            l2 = l2.next\n",
    "            \n",
    "        if l1 != None:\n",
    "            l3.next = l1\n",
    "            while c > 0 and l1 != None:\n",
    "                c += l1.val\n",
    "                l1.val = c%10\n",
    "                c = c // 10\n",
    "                l1 = l1.next\n",
    "\n",
    "        if l2 != None:\n",
    "            l3.next = l2\n",
    "            while c > 0 and l2 != None:\n",
    "                c += l2.val\n",
    "                l2.val = c%10\n",
    "                c = c // 10\n",
    "                l2 = l2.next\n",
    "\n",
    "        while l3.next != None:\n",
    "            l3 = l3.next\n",
    "        if c > 0:\n",
    "            l3.next = ListNode(c)\n",
    "            l3 = l3.next    \n",
    "\n",
    "        l3.next = None\n",
    "        return start"
   ]
  },
  {
   "cell_type": "code",
   "execution_count": 7,
   "metadata": {},
   "outputs": [
    {
     "ename": "SyntaxError",
     "evalue": "invalid syntax (<ipython-input-7-15a98d6acd97>, line 1)",
     "output_type": "error",
     "traceback": [
      "\u001b[1;36m  File \u001b[1;32m\"<ipython-input-7-15a98d6acd97>\"\u001b[1;36m, line \u001b[1;32m1\u001b[0m\n\u001b[1;33m    Solution.addTwoNumbers((2 -> 4 -> 3) + (5 -> 6 -> 4))\u001b[0m\n\u001b[1;37m                               ^\u001b[0m\n\u001b[1;31mSyntaxError\u001b[0m\u001b[1;31m:\u001b[0m invalid syntax\n"
     ]
    }
   ],
   "source": [
    "Solution.addTwoNumbers()"
   ]
  },
  {
   "cell_type": "code",
   "execution_count": null,
   "metadata": {},
   "outputs": [],
   "source": [
    "(2 -> 4 -> 3) + (5 -> 6 -> 4)"
   ]
  }
 ],
 "metadata": {
  "kernelspec": {
   "display_name": "Python 3",
   "language": "python",
   "name": "python3"
  },
  "language_info": {
   "codemirror_mode": {
    "name": "ipython",
    "version": 3
   },
   "file_extension": ".py",
   "mimetype": "text/x-python",
   "name": "python",
   "nbconvert_exporter": "python",
   "pygments_lexer": "ipython3",
   "version": "3.7.3"
  }
 },
 "nbformat": 4,
 "nbformat_minor": 2
}
